{
 "metadata": {
  "name": "",
  "signature": "sha256:4a79bfe2836f1e4b5ab4803a6e8e3c7d65d746b941c1386599f56a40437ecc5b"
 },
 "nbformat": 3,
 "nbformat_minor": 0,
 "worksheets": [
  {
   "cells": [
    {
     "cell_type": "code",
     "collapsed": false,
     "input": [
      "import pacturtle\n",
      "T = pacturtle.pacturtle()\n",
      "T.forward(100)\n",
      "T.rotate(90)\n",
      "T.forward(200)\n",
      "T.rotate(20)\n",
      "T.forward(100)\n",
      "T.rotate(100)\n",
      "T.rotate(32)\n",
      "T.forward(300)"
     ],
     "language": "python",
     "metadata": {},
     "outputs": [
      {
       "output_type": "stream",
       "stream": "stdout",
       "text": [
        "PAC:\n",
        "forward 250.0 150.0\n",
        "rotate 90\n",
        "forward 450.0 150.0\n",
        "rotate 20\n",
        "forward 543.969262079 184.202014333\n",
        "rotate 100\n",
        "rotate 32\n",
        "forward 279.084984221 325.043483168\n"
       ]
      }
     ],
     "prompt_number": 1
    }
   ],
   "metadata": {}
  }
 ]
}