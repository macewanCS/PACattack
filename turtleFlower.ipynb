{
 "metadata": {
  "name": "",
  "signature": "sha256:86439f8e4aedbefaf59d6d9ec4aa9de83ed31ff31fceb1179723418eaba7c7f9"
 },
 "nbformat": 3,
 "nbformat_minor": 0,
 "worksheets": [
  {
   "cells": [
    {
     "cell_type": "code",
     "collapsed": false,
     "input": [
      "import pacturtle\n",
      "T = pacturtle.pacturtle()\n",
      "for x in range(0, 17):\n",
      "    T.forward(200)\n",
      "    T.rotate(170)"
     ],
     "language": "python",
     "metadata": {},
     "outputs": []
    }
   ],
   "metadata": {}
  }
 ]
}