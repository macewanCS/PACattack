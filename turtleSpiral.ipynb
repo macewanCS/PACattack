{
 "metadata": {
  "name": "",
  "signature": "sha256:2b7ed128a14fc9f9ccac115c7cf0b89e75c79fb59ae9cdb90896ce85c43c0a01"
 },
 "nbformat": 3,
 "nbformat_minor": 0,
 "worksheets": [
  {
   "cells": [
    {
     "cell_type": "code",
     "collapsed": false,
     "input": [
      "import pacturtle\n",
      "T = pacturtle.pacturtle()\n",
      "for x in range(0, 20):\n",
      "    T.forward (50)\n",
      "    T.rotate (150)\n",
      "    T.forward (60)\n",
      "    T.rotate (100)\n",
      "    T.forward (30)\n",
      "    T.rotate (90)\n"
     ],
     "language": "python",
     "metadata": {},
     "outputs": []
    }
   ],
   "metadata": {}
  }
 ]
}