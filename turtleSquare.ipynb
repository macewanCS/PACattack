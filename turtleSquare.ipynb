{
 "metadata": {
  "name": "",
  "signature": "sha256:798091b3e90d001e4bc53f836fbc43cf52759aeb76cfbbeff0e947c86de032f2"
 },
 "nbformat": 3,
 "nbformat_minor": 0,
 "worksheets": [
  {
   "cells": [
    {
     "cell_type": "code",
     "collapsed": false,
     "input": [
      "import pacturtle\n",
      "T = pacturtle.pacturtle()\n",
      "for x in range(0, 4):\n",
      "    T.forward(200)\n",
      "    T.rotate(90)"
     ],
     "language": "python",
     "metadata": {},
     "outputs": []
    }
   ],
   "metadata": {}
  }
 ]
}